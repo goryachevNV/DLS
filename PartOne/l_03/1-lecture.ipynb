{
 "cells": [
  {
   "cell_type": "markdown",
   "metadata": {},
   "source": [
    "# 3. Основы машинного обучения"
   ]
  },
  {
   "cell_type": "markdown",
   "metadata": {},
   "source": [
    "## 3.1 Лекция. Введение в машинное обучение. Григорий Лелейтнер\n",
    "\n",
    "Машинное обучение -- это совокупность алгоритмов и методов, позволяющих производить автоматизированное извлечение закономерностей из данных. Нейронная сеть в этом смысле -- всего лишь один из алгоритмов машинного обучения. Именно поэтому мы начинаем основную часть нашего курса с этой темы.\n",
    "\n",
    "На лекции про машинное обучение вы узнаете, что такое обучение с учителем, как выглядит решение задачи машинного обучения и что такое обучение модели. Ссылка на презентацию (https://docs.google.com/presentation/d/1yi_dbIPsMqvdUoyaaDoxsVQi0_aOjl_E, скаченный файл: **2-Введение в машинное обучение.pptx**)\n",
    "\n",
    "https://www.youtube.com/watch?v=LcvKd42DGQU"
   ]
  },
  {
   "cell_type": "markdown",
   "metadata": {},
   "source": [
    "## 3.2 Семинар. Библиотека sklearn. Григорий Лелейтнер\n",
    "\n",
    "В этом семинаре вы познакомитесь с библиотекой sklearn и узнаете об основных этапах решения задачи анализа данных. Также мы будем подбирать гиперпараметры модели с помощью метрик и кросс-валидации.\n",
    "\n",
    "Ссылка на папку с материалами (https://drive.google.com/drive/folders/13Do1OBgB67XCPZx84ODnQt8bbc8Gh7MQ?usp=sharing, скаченные файлы: **2-Введение в машинное обучение.pptx**, **3-[seminar]ml_basics.ipynb**, **AppleStore.csv**)\n",
    "\n",
    "https://www.youtube.com/watch?v=YMtsgx8oB24"
   ]
  }
 ],
 "metadata": {
  "kernelspec": {
   "display_name": "Python 3",
   "language": "python",
   "name": "python3"
  },
  "language_info": {
   "name": "python",
   "version": "3.11.4"
  },
  "orig_nbformat": 4
 },
 "nbformat": 4,
 "nbformat_minor": 2
}
