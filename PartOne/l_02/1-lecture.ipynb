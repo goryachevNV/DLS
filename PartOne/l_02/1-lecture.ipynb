{
 "cells": [
  {
   "cell_type": "markdown",
   "metadata": {},
   "source": [
    "# Введение в искусственный интеллект"
   ]
  },
  {
   "cell_type": "markdown",
   "metadata": {},
   "source": [
    "## Первое занятие. Лекция, введение в ИИ. Михаил Бурцев\n",
    "Приветствуем Вас на первом занятии первого семестра нашего курса! Сегодня мы познакомимся с тем, что такое глубокое обучение. По традиции поможет нам в этом человек, который стоял у основания нашей школы -- заведующий лабораторией нейронных систем и глубокого обучения МФТИ, руководитель проекта DeepPavlov Михаил Бурцев.\n",
    "\n",
    "https://www.youtube.com/watch?v=y7bf0Kk46UU&t=1s"
   ]
  }
 ],
 "metadata": {
  "kernelspec": {
   "display_name": "Python 3",
   "language": "python",
   "name": "python3"
  },
  "language_info": {
   "name": "python",
   "version": "3.11.4"
  },
  "orig_nbformat": 4
 },
 "nbformat": 4,
 "nbformat_minor": 2
}
