{
 "cells": [
  {
   "cell_type": "markdown",
   "metadata": {},
   "source": [
    "# 5. Линейные модели"
   ]
  },
  {
   "cell_type": "markdown",
   "metadata": {},
   "source": [
    "## 5.1 Лекция. Линейные модели. Григорий Лелейтнер\n",
    "\n",
    "В этой лекции вы узнаете, что такое линейные модели. Мы построим линейные алгоритмы для решения задач классификации и регрессии, а также научимся их регуляризовывать (и узнаем, что это такое!)\n",
    "\n",
    "Занятие ведёт Григорий Лелейтнер\n",
    "\n",
    "Ссылка на папку с материалами (https://drive.google.com/drive/folders/1V54OlYH7eFEzFNk7r4ffs63bfA5QOZge, скаченные файлы: **2-Линейные модели.pptx**, **3-Линейные модели.pptx.pdf**)\n",
    "\n",
    "\n",
    "* Первое видео посвящено самой простой из линейных моделей -- линейной регрессии:\n",
    "\n",
    "https://www.youtube.com/watch?v=khdaLtu9i-s\n",
    "\n",
    "* В этом видео мы получим LogLoss - функцию потерь, которую будем использовать для обучения классификаторов:\n",
    "\n",
    "https://www.youtube.com/watch?v=HV4Bm8UJwIs\n",
    "\n",
    "* В этом видео мы познакомимся с линейной моделью для классификации - логистической регрессией:\n",
    "\n",
    "https://www.youtube.com/watch?v=twdZBko9vH4\n",
    "\n",
    "* В этом видео мы узнаем, как в машинном обучении минимизируют функцию потерь:\n",
    "\n",
    "https://www.youtube.com/watch?v=N5_VAN1nhm8\n",
    "\n",
    "* В этом видео мы научимся бороться с переобучением в линейных моделях:\n",
    "\n",
    "https://www.youtube.com/watch?v=L_o8v5A23XA\n",
    "\n",
    "* В этом видео мы узнаем об очень важном этапе предобработке данных:\n",
    "\n",
    "https://www.youtube.com/watch?v=tOiwAyilk3I"
   ]
  },
  {
   "cell_type": "markdown",
   "metadata": {},
   "source": [
    "## 5.2 Семинар. Линейные модели. Артем Ямалутдинов\n",
    "\n",
    "Семинар ведёт Артём Ямалутдинов.\n",
    "\n",
    "Ссылка на папку с материалами (https://drive.google.com/drive/folders/1V54OlYH7eFEzFNk7r4ffs63bfA5QOZge, скаченный файл: **4-[seminar,adv]linreg_regularization.ipynb**)\n",
    "\n",
    "Ссылка на ноутбук (https://drive.google.com/file/d/1GMPLJcnVPCX0ZAzQ56L7tH1SsgdBdr4v, скаченный файл: **4-[seminar,adv]linreg_regularization.ipynb**)\n",
    "\n",
    "https://www.youtube.com/watch?v=5VOp5xmBvds"
   ]
  }
 ],
 "metadata": {
  "kernelspec": {
   "display_name": "Python 3",
   "language": "python",
   "name": "python3"
  },
  "language_info": {
   "name": "python",
   "version": "3.11.4"
  },
  "orig_nbformat": 4
 },
 "nbformat": 4,
 "nbformat_minor": 2
}
