{
 "cells": [
  {
   "cell_type": "markdown",
   "metadata": {},
   "source": [
    "Для прохождения данного домашнего задания вам необходимо решить ноутбуки, прикреплённые к заданию [homework]knn.ipynb (https://drive.google.com/file/d/1-mw8yb1rdfUZYTCvH92jhWu5UoHYkEnP/view?usp=sharing).\n",
    "\n",
    "Все необходимые вам файлы и папки, как и сами ноутбуки, лежат здесь: Папка с домашним заданием (https://drive.google.com/drive/folders/1PGIACkX5PscljzZeLNDOX_DQrQrsheL1?usp=sharing).\n",
    "\n",
    "Каждому тестовому вопросу в домашнем задании соответствует пункт задания в ноутбуке."
   ]
  },
  {
   "cell_type": "markdown",
   "metadata": {},
   "source": [
    "1) Какое качество у вас получилось?\n",
    "\n",
    "Enter a number: \n",
    "                0.7365"
   ]
  },
  {
   "cell_type": "markdown",
   "metadata": {},
   "source": [
    "2) Какую metric следует использовать?\n",
    "\n",
    "Select one option from the list\n",
    "\n",
    "* euclidean\n",
    "\n",
    "* manhattan (correct answer)"
   ]
  },
  {
   "cell_type": "markdown",
   "metadata": {},
   "source": [
    "3) Сколько n_neighbors следует использовать? (целое число)\n",
    "\n",
    "Enter a number: 4"
   ]
  },
  {
   "cell_type": "markdown",
   "metadata": {},
   "source": [
    "4) Какой тип weights следует использовать?\n",
    "\n",
    "Select one option from the list:\n",
    "* distance (correct answer)\n",
    "* uniform"
   ]
  },
  {
   "cell_type": "markdown",
   "metadata": {},
   "source": [
    "5) Какая прогнозируемая вероятность pred_freq класса под номером 3 (писать через точку, округлить до второго знака)?\n",
    "\n",
    "Enter a number: 0.053"
   ]
  }
 ],
 "metadata": {
  "language_info": {
   "name": "python"
  }
 },
 "nbformat": 4,
 "nbformat_minor": 2
}
