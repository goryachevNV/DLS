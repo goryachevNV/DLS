{
 "cells": [
  {
   "cell_type": "markdown",
   "metadata": {},
   "source": [
    "# 7. Композиции алгоритмов и выбор модели"
   ]
  },
  {
   "cell_type": "markdown",
   "metadata": {},
   "source": [
    "## 7.1 Допматериал. Метрики машинного обучения. Юрий Яровиков\n",
    "\n",
    "В этом видео мы рассмотрим тему, которая не вошла в основные семинары. Ее стоит посмотреть, если вы еще не знакомы с метриками, использующимися в ML.\n",
    "\n",
    "Документ (https://docs.google.com/presentation/d/1ED0NCAFCLbRMbKyarhCvKT2yIT2hRAXZ, скаченный файл: **2- Метрики в задаче регрессии.pdf**) со сжатым описанием метрик регрессии.\n",
    "\n",
    "https://www.youtube.com/watch?v=TaTGunOAIK4"
   ]
  },
  {
   "cell_type": "markdown",
   "metadata": {},
   "source": [
    "## 7.2 Решающие деревья и композиции алгоритмов. Юрий Яровиков\n",
    "Привет!\n",
    "\n",
    "В этом занятии вы познакомитесь с ещё одним видом алгоритмов машинного обучения --- решающими деревьями. В следующих видео мы расскажем о том, какие бывают методы построения композиций алгоритмов.\n",
    "\n",
    "Занятие ведёт Юрий Яровиков.\n",
    "\n",
    "Ссылка на презентацию (https://drive.google.com/file/d/1slRUTiARC7vs9WkkwbFhRRMC90WFaEgd, скаченный файл: **3-Решающие деревья и композиции алгоритмов.pdf**)\n",
    "\n",
    "* Решающие деревья:\n",
    "https://youtu.be/MJwAoWFTMWw\n",
    "\n",
    "* Композиции алгоритмов:\n",
    "https://youtu.be/vqF8wrWjR5s\n",
    "\n",
    "* Градиентный бустинг:\n",
    "https://youtu.be/JElfEE1OrSU"
   ]
  },
  {
   "cell_type": "markdown",
   "metadata": {},
   "source": [
    "## 7.3 Семинар. Выбор моделей и цикл разработки. Аркадий Боков\n",
    "\n",
    "В этом семинаре Аркадий Боков расскажет о том, как создаются модели машинного обучения для решения настоящих задач. Это очень важно, потому что процесс обучения нейронных сетей и обычных моделей очень похож.\n",
    "\n",
    "Ссылка на материалы (https://drive.google.com/drive/folders/1ilj4pCzRMx_sA7aCWX8vECByNMPos28J, скаченные файлы: **3-Решающие деревья и композиции алгоритмов.pdf**, **4-model_selection_ensembles.ipynb**, **docs_one_hot.png**, **lifecycle.png**, **pipeline.jpg**)\n",
    "\n",
    "https://youtu.be/B03CrtpYDi4"
   ]
  }
 ],
 "metadata": {
  "kernelspec": {
   "display_name": "Python 3",
   "language": "python",
   "name": "python3"
  },
  "language_info": {
   "name": "python",
   "version": "3.11.4"
  },
  "orig_nbformat": 4
 },
 "nbformat": 4,
 "nbformat_minor": 2
}
