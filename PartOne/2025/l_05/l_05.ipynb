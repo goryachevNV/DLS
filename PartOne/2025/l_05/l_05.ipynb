{
 "cells": [
  {
   "cell_type": "markdown",
   "id": "559a05d1",
   "metadata": {},
   "source": [
    "# Линейные модели."
   ]
  },
  {
   "cell_type": "markdown",
   "id": "611094f8",
   "metadata": {},
   "source": [
    "## Лекция. Линейные модели.\n",
    "В этой лекции вы узнаете, что такое линейные модели. Мы построим линейные алгоритмы для решения задач классификации и регрессии, а также научимся их регуляризовывать (и узнаем, что это такое!)"
   ]
  },
  {
   "cell_type": "markdown",
   "id": "bde0372c",
   "metadata": {},
   "source": [
    "Первое видео посвящено самой простой из линейных моделей -- линейной регрессии.\n",
    "\n",
    "[Ссылка на презентацию](https://github.com/DeepLearningSchool/part_1_ml_cv/blob/main/week_02_linear_models/Lecture/%D0%9B%D0%B8%D0%BD%D0%B5%D0%B9%D0%BD%D1%8B%D0%B5%20%D0%BC%D0%BE%D0%B4%D0%B5%D0%BB%D0%B8.pdf)\n",
    "\n",
    "https://www.youtube.com/watch?v=khdaLtu9i-s"
   ]
  },
  {
   "cell_type": "markdown",
   "id": "e6cac78d",
   "metadata": {},
   "source": [
    "В этом видео мы получим LogLoss - функцию потерь, которую будем использовать для обучения классификаторов. \n",
    "\n",
    "https://www.youtube.com/watch?v=HV4Bm8UJwIs"
   ]
  },
  {
   "cell_type": "markdown",
   "id": "24302b65",
   "metadata": {},
   "source": [
    "В этом видео мы познакомимся с линейной моделью для классификации - логистической регрессией.\n",
    "\n",
    "https://www.youtube.com/watch?v=twdZBko9vH4"
   ]
  },
  {
   "cell_type": "markdown",
   "id": "4d22e57a",
   "metadata": {},
   "source": [
    "В этом видео мы узнаем, как в машинном обучении минимизируют функцию потерь.\n",
    "\n",
    "https://www.youtube.com/watch?v=N5_VAN1nhm8"
   ]
  },
  {
   "cell_type": "markdown",
   "id": "d420db62",
   "metadata": {},
   "source": [
    "В этом видео мы научимся бороться с переобучением в линейных моделях.\n",
    "\n",
    "https://www.youtube.com/watch?v=L_o8v5A23XA"
   ]
  },
  {
   "cell_type": "markdown",
   "id": "0aa737a6",
   "metadata": {},
   "source": [
    "В этом видео мы узнаем об очень важном этапе — предобработке данных.\n",
    "\n",
    "https://www.youtube.com/watch?v=tOiwAyilk3I"
   ]
  },
  {
   "cell_type": "markdown",
   "id": "2706096b",
   "metadata": {},
   "source": [
    "## Семинар. Линейные модели."
   ]
  },
  {
   "cell_type": "markdown",
   "id": "2d066a26",
   "metadata": {},
   "source": [
    "В этом видео мы рассмотрим два решения задачи линейной регрессии: с помощью явной формулы и с помощью градиентной оптимизации. Мы реализуем решения в виде классов, как это принято в библиотеке sklearn.\n",
    "\n",
    "https://www.youtube.com/watch?v=GNbDq0570gw\n",
    "\n",
    "[Ссылка на ноутбук](https://colab.research.google.com/github/DeepLearningSchool/part_1_ml_cv/blob/main/week_02_linear_models/Practice/part_1_linear_regression.ipynb)\n",
    "\n",
    "[Ссылка на папку с материалами](https://github.com/DeepLearningSchool/part_1_ml_cv/tree/main/week_02_linear_models)"
   ]
  },
  {
   "cell_type": "markdown",
   "id": "a6c2e3fd",
   "metadata": {},
   "source": [
    "В этом видео мы реализуем линейную регрессию с двумя видами регуляризации: L1 и L2. Мы применим наши классы к реальной задаче и увидим, чем два способа регуляризации отличаются друг от друга.\n",
    "\n",
    "https://www.youtube.com/watch?v=xzkfLfb5OMQ\n",
    "\n",
    "[Ссылка на ноутбук](https://colab.research.google.com/github/DeepLearningSchool/part_1_ml_cv/blob/main/week_02_linear_models/Practice/part_2_regularization.ipynb)\n",
    "\n",
    "[Ссылка на папку с материалами](https://github.com/DeepLearningSchool/part_1_ml_cv/tree/main/week_02_linear_models)"
   ]
  },
  {
   "cell_type": "markdown",
   "id": "e267e833",
   "metadata": {},
   "source": [
    "В этом видео мы напишем собственный класс логистической регрессии и научимся его использовать, а также визуализируем предсказания логрегрессии.\n",
    "\n",
    "https://www.youtube.com/watch?v=aGtbbiPCHdE\n",
    "\n",
    "[Ссылка на ноутбук ](https://colab.research.google.com/github/DeepLearningSchool/part_1_ml_cv/blob/main/week_02_linear_models/Practice/part_3_logistic_regression.ipynb)\n",
    "\n",
    "[Ссылка на папку с материалами](https://github.com/DeepLearningSchool/part_1_ml_cv/tree/main/week_02_linear_models)"
   ]
  },
  {
   "cell_type": "markdown",
   "id": "f5c17831",
   "metadata": {},
   "source": [
    "## Дополнительные материалы. Математика.\n",
    "\n",
    "В данном разделе вам может понадобиться знание дифференцирования функций и матричного дифференцирования. \n",
    "Мы подготовили вам несколько полезных ссылок, где можно подробнее про это почитать.\n",
    "\n",
    " \n",
    "\n",
    "1. Функция и её производная.\n",
    "\n",
    "https://mathprofi.ru/kak_naiti_proizvodnuju.html\n",
    "\n",
    "2. Производная функций нескольких переменных.\n",
    "\n",
    "https://mathprofi.ru/proizvodnye_slozhnyh_funkcij_neskolkih_peremennyh.html\n",
    "\n",
    "3. Матрицы и работа с матрицами.\n",
    "\n",
    "https://mathprofi.ru/deistviya_s_matricami.html\n",
    "\n",
    "4. Матрично-векторное дифференцирование.\n",
    "\n",
    "http://www.machinelearning.ru/wiki/images/5/50/MOMO17_Seminar2.pdf\n",
    "https://education.yandex.ru/handbook/ml/article/matrichnoe-differencirovanie"
   ]
  }
 ],
 "metadata": {
  "language_info": {
   "name": "python"
  }
 },
 "nbformat": 4,
 "nbformat_minor": 5
}
