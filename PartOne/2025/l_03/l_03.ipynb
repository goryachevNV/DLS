{
 "cells": [
  {
   "cell_type": "markdown",
   "id": "7e66932f",
   "metadata": {},
   "source": [
    "# Основы машинного обучения\n",
    "\n",
    " "
   ]
  },
  {
   "cell_type": "markdown",
   "id": "6614fcb2",
   "metadata": {},
   "source": [
    "## Лекция. Введение в машинное обучение.\n",
    "\n",
    "Машинное обучение -- это совокупность алгоритмов и методов, позволяющих производить автоматизированное извлечение закономерностей из данных. Нейронная сеть в этом смысле -- всего лишь один из алгоритмов машинного обучения. Именно поэтому мы начинаем основную часть нашего курса с этой темы.\n",
    "\n",
    "На лекции про машинное обучение вы узнаете, что такое обучение с учителем, как выглядит решение задачи машинного обучения и что такое обучение модели. [Ссылка на презентацию](https://github.com/DeepLearningSchool/part_1_ml_cv/blob/main/week_01_ml_intro/Lecture/%D0%92%D0%B2%D0%B5%D0%B4%D0%B5%D0%BD%D0%B8%D0%B5%20%D0%B2%20%D0%BC%D0%B0%D1%88%D0%B8%D0%BD%D0%BD%D0%BE%D0%B5%20%D0%BE%D0%B1%D1%83%D1%87%D0%B5%D0%BD%D0%B8%D0%B5.pdf)\n",
    "\n",
    "https://www.youtube.com/watch?v=LcvKd42DGQU"
   ]
  },
  {
   "cell_type": "markdown",
   "id": "3fefddd2",
   "metadata": {},
   "source": [
    "## Семинар. Введение в ML. Pandas, Matplotlib, Sklearn.\n",
    "В этом семинаре вы познакомитесь с основными библиотеками для работы с данными, а также библиотекой sklearn и узнаете об основных этапах решения задачи анализа данных. Также мы будем подбирать гиперпараметры модели с помощью метрик и кросс-валидации."
   ]
  },
  {
   "cell_type": "markdown",
   "id": "a5d990d2",
   "metadata": {},
   "source": [
    "\n",
    "Первая часть семинара будет посвящена анализу и работе с данными, а также библиотекам Pandas и Matplotlib\n",
    "\n",
    "https://www.youtube.com/watch?v=cqBTDb4un-Q\n",
    "\n",
    "Ссылки на ноутбуки: \n",
    "\n",
    "- [Анализ данных. Pandas, Matplotlib](https://colab.research.google.com/drive/1jwyWpkUasH-mjNW-rgulZcFqtEm-GmVH?usp=sharing);\n",
    "\n",
    "- [Библиотека Sklearn](https://colab.research.google.com/github/DeepLearningSchool/part_1_ml_cv/blob/main/week_01_ml_intro/Practice/part_2_intro_to_sklearn.ipynb)."
   ]
  },
  {
   "cell_type": "markdown",
   "id": "fb955c65",
   "metadata": {},
   "source": [
    "В этой части семинара вы продолжите работать с анализом даных, библиотеками Pandas и Matplotlib.\n",
    "\n",
    "https://www.youtube.com/watch?v=PI57kYeODnY\n",
    "\n",
    "Ссылки на ноутбуки: \n",
    "\n",
    "- [Анализ данных. Pandas, Matplotlib](https://colab.research.google.com/drive/1jwyWpkUasH-mjNW-rgulZcFqtEm-GmVH?usp=sharing);\n",
    "\n",
    "- [Библиотека Sklearn](https://colab.research.google.com/drive/1FmLxcg7rXmWJRAnLvYLhZHzW5SNHPQuV?usp=sharing)."
   ]
  },
  {
   "cell_type": "markdown",
   "id": "5f110570",
   "metadata": {},
   "source": [
    "Это заключительная часть работы с данными и библиотеками Pandas и Matplotlib.\n",
    "\n",
    "https://www.youtube.com/watch?v=zFW0PRjDLQM\n",
    "\n",
    "Ссылки на ноутбуки: \n",
    "\n",
    "- [Анализ данных. Pandas, Matplotlib](https://colab.research.google.com/drive/1jwyWpkUasH-mjNW-rgulZcFqtEm-GmVH?usp=sharing);\n",
    "\n",
    "- [Библиотека Sklearn](https://colab.research.google.com/drive/1FmLxcg7rXmWJRAnLvYLhZHzW5SNHPQuV?usp=sharing)."
   ]
  },
  {
   "cell_type": "markdown",
   "id": "1cea9ce1",
   "metadata": {},
   "source": [
    "В этой части семинара вы познакомитесь с библиотекой sklearn и узнаете об основных этапах решения задачи анализа данных. Также мы будем подбирать гиперпараметры модели с помощью метрик и кросс-валидации.\n",
    "\n",
    "https://www.youtube.com/watch?v=JqQmdebVtEU\n",
    "\n",
    "Ссылки на ноутбуки: \n",
    "\n",
    "- [Анализ данных. Pandas, Matplotlib](https://colab.research.google.com/drive/1jwyWpkUasH-mjNW-rgulZcFqtEm-GmVH?usp=sharing);\n",
    "\n",
    "- [Библиотека Sklearn](https://colab.research.google.com/drive/1FmLxcg7rXmWJRAnLvYLhZHzW5SNHPQuV?usp=sharing)."
   ]
  },
  {
   "cell_type": "markdown",
   "id": "e11459d7",
   "metadata": {},
   "source": [
    "## Дополнительный семинар. Feature engineering: допглавы"
   ]
  },
  {
   "cell_type": "markdown",
   "id": "c7c16ddb",
   "metadata": {},
   "source": [
    "В этом ноутбуке мы разберем некоторые темы feature engineering на примере датасета для задачи кредитного скоринга.\n",
    "\n",
    "[Ссылка на презентацию](https://github.com/DeepLearningSchool/part_1_ml_cv/blob/main/week_01_ml_intro/Lecture/%D0%92%D0%B2%D0%B5%D0%B4%D0%B5%D0%BD%D0%B8%D0%B5%20%D0%B2%20%D0%BC%D0%B0%D1%88%D0%B8%D0%BD%D0%BD%D0%BE%D0%B5%20%D0%BE%D0%B1%D1%83%D1%87%D0%B5%D0%BD%D0%B8%D0%B5.pdf)\n",
    "\n",
    "https://www.youtube.com/watch?v=AgTT3Y6HuGc"
   ]
  }
 ],
 "metadata": {
  "language_info": {
   "name": "python"
  }
 },
 "nbformat": 4,
 "nbformat_minor": 5
}
