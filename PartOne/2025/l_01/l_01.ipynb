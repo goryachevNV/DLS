{
 "cells": [
  {
   "cell_type": "markdown",
   "id": "0435a8c8",
   "metadata": {},
   "source": [
    "> Про что курс? \n",
    "\n",
    "Первый семестр будет посвящён основам нейросетей, свёрточным нейронным сетям и компьютерному зрению. \n"
   ]
  },
  {
   "cell_type": "markdown",
   "id": "f20a1203",
   "metadata": {},
   "source": [
    "\n",
    "> Инструменты курса. Jupyter и Google Colab\n"
   ]
  },
  {
   "cell_type": "markdown",
   "id": "b136e0eb",
   "metadata": {},
   "source": [
    "\n",
    "> Ссылки\n",
    "[FAQ](https://dls.samcs.ru/faq)\n",
    "\n",
    "[dls.samcs.ru](https://dls.samcs.ru/) — наш официальный сайт\n",
    "\n",
    "https://vk.com/dlschool_mipt — официальное сообщество ВКонтакте\n",
    "\n",
    "https://t.me/deep_learning_school_news -- Telegram-канал\n",
    "\n",
    "https://goo.gl/6cLVfX — официальный канал на YouTube. Здесь выкладываются все наши видео со всех курсов, а также другие интересные вещи"
   ]
  }
 ],
 "metadata": {
  "language_info": {
   "name": "python"
  }
 },
 "nbformat": 4,
 "nbformat_minor": 5
}
