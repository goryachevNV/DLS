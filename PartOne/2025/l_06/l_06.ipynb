{
 "cells": [
  {
   "cell_type": "markdown",
   "id": "2a15674d",
   "metadata": {},
   "source": [
    "# Домашнее задание. Линейные модели и методы оптимизации"
   ]
  },
  {
   "cell_type": "markdown",
   "id": "e290131a",
   "metadata": {},
   "source": [
    "В этом домашнем задании вам необходимо прорешать [ноутбук](https://colab.research.google.com/github/DeepLearningSchool/part_1_ml_cv/blob/main/week_02_linear_models/Homework/hw_2_linear_models.ipynb) о линейных моделях и градиентном спуске. \n",
    "\n",
    "Сдача задания происходит по шагам, на которых необходимо вписывать реализацию написанных вами функций (контекст будет понятен из ноутбука) в форму сдачи Stepik-а. \n",
    "\n",
    "Мы рекомендуем сначала решать ноутбук, а потом уже тестировать в системе, так как в самом ноутбуке есть много подсказок.\n",
    "\n",
    "[Ссылка на папку с материалами](https://github.com/DeepLearningSchool/part_1_ml_cv/tree/main/week_02_linear_models/Homework)"
   ]
  }
 ],
 "metadata": {
  "language_info": {
   "name": "python"
  }
 },
 "nbformat": 4,
 "nbformat_minor": 5
}
