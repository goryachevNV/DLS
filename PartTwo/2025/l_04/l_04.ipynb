{
 "cells": [
  {
   "cell_type": "markdown",
   "id": "0c5248fc",
   "metadata": {},
   "source": [
    "# Рекуррентные нейронные сети (RNN)"
   ]
  },
  {
   "cell_type": "markdown",
   "id": "20fcd3ab",
   "metadata": {},
   "source": [
    "## Лекция. Рекуррентные нейронные сети.\n",
    "\n",
    "[Материалы к лекции.](https://github.com/DeepLearningSchool/part_2_nlp/blob/main/week_02_RNN/Lecture/RNN.pdf)\n",
    "\n",
    "#### Рекуррентная нейронная сеть\n",
    "\n",
    "https://www.youtube.com/watch?v=3OljkWQ2Uc0\n",
    "\n",
    "#### Обучение рекуррентной нейронной сети\n",
    "\n",
    "https://www.youtube.com/watch?v=WsXgPD4lmlc\n",
    "\n",
    "#### Функции активации в RNN\n",
    "\n",
    "https://www.youtube.com/watch?v=OF_JnQlHXQ4\n",
    "\n",
    "#### LSTM, GRU\n",
    "\n",
    "https://www.youtube.com/watch?v=2a_7SmTNrJA"
   ]
  },
  {
   "cell_type": "markdown",
   "id": "e88bec3a",
   "metadata": {},
   "source": [
    "## Семинар. Обучение рекуррентной нейронной сети для задачи классификации текста.\n",
    "\n",
    "[Ссылка на материалы занятия](https://colab.research.google.com/github/DeepLearningSchool/part_2_nlp/blob/main/week_02_RNN/Practice/neural_text_classification.ipynb)\n",
    "\n",
    "В этом видео мы решим задачу бинарной классификации с помощью рекуррентной нейронной сети. \n",
    "\n",
    "Узнаем, как использовать стандартные модули из библиотеки torch  и сравним два подхода к агрегации эмбеддингов: max pooling и простое усреднение.\n",
    "\n",
    " https://www.youtube.com/watch?v=ql0VbSPsDCs\n"
   ]
  }
 ],
 "metadata": {
  "language_info": {
   "name": "python"
  }
 },
 "nbformat": 4,
 "nbformat_minor": 5
}
