{
 "cells": [
  {
   "cell_type": "markdown",
   "id": "570a8698",
   "metadata": {},
   "source": [
    "# Эмбеддинги слов"
   ]
  },
  {
   "cell_type": "markdown",
   "id": "d5ed5e07",
   "metadata": {},
   "source": [
    "## Лекция. Эмбеддинги слов.\n",
    "\n",
    "[Материалы к лекции.](https://github.com/DeepLearningSchool/part_2_nlp/blob/main/week_01_intro_to_nlp_embeddings/Lecture/Word%20Embeddings.pptx.pdf)\n",
    "\n",
    "#### Введение. Задачи обработки естественного языка и аудио\n",
    "\n",
    "https://www.youtube.com/watch?v=StZaHBNWiOs\n",
    "\n",
    "#### Векторные представления слов, Bag of Words. Латентный семантический анализ\n",
    "\n",
    "https://www.youtube.com/watch?v=EOgwODW67PE\n",
    "\n",
    "#### Контестные эмбеддинги. Word2Vec.\n",
    "\n",
    "https://www.youtube.com/watch?v=WbtQzAvhnRI\n",
    "\n",
    "####  Детали Word2Vec. FastText, GloVe. Применения эмбеддингов\n",
    "\n",
    "https://www.youtube.com/watch?v=RKGi26Yk-5A"
   ]
  },
  {
   "cell_type": "markdown",
   "id": "19eb2b6a",
   "metadata": {},
   "source": [
    "## Семинар. Обработка текста."
   ]
  },
  {
   "cell_type": "markdown",
   "id": "8113ddf9",
   "metadata": {},
   "source": [
    "[Материалы к занятию.](https://colab.research.google.com/github/DeepLearningSchool/part_2_nlp/blob/main/week_01_intro_to_nlp_embeddings/Practice/text_preprocessing_and_classification.ipynb)\n",
    "\n",
    "\n",
    "####  Обработка текста\n",
    "\n",
    "В этом видео вы познакомитесь с базовыми методами обработки текста.\n",
    "\n",
    "https://www.youtube.com/watch?v=Aa-p8ddbxpQ\n",
    "\n",
    "\n",
    "#### Решение задачи классификации текста\n",
    "\n",
    "В этом видео мы решим задачу классификации текстов.\n",
    "\n",
    "https://www.youtube.com/watch?v=ltyWeIPrAVA"
   ]
  }
 ],
 "metadata": {
  "language_info": {
   "name": "python"
  }
 },
 "nbformat": 4,
 "nbformat_minor": 5
}
