{
 "cells": [
  {
   "cell_type": "markdown",
   "id": "0435a8c8",
   "metadata": {},
   "source": [
    "> Про что курс? \n",
    "\n",
    "В этом курсе мы расскажем про обработку естественного языка (Natural Language Processing, NLP).\n"
   ]
  },
  {
   "cell_type": "markdown",
   "id": "b136e0eb",
   "metadata": {},
   "source": [
    "\n",
    "> Ссылки\n",
    "\n",
    "Просим обратить внимание на ссылки ниже. Пожалуйста, убедитесь, что состоите в телеграм-чате, там мы всегда максимально оперативно отвечаем на вопросы.\n",
    "\n",
    "[FAQ](https://dls.samcs.ru/faq)\n",
    "\n",
    "[dls.samcs.ru](https://dls.samcs.ru/) — наш официальный сайт\n",
    "\n",
    "https://vk.com/dlschool_mipt — официальное сообщество ВКонтакте\n",
    "\n",
    "https://t.me/deep_learning_school_news -- Telegram-канал\n",
    "\n",
    "https://goo.gl/6cLVfX — официальный канал на YouTube. Здесь выкладываются все наши видео со всех курсов, а также другие интересные вещи"
   ]
  }
 ],
 "metadata": {
  "language_info": {
   "name": "python"
  }
 },
 "nbformat": 4,
 "nbformat_minor": 5
}
