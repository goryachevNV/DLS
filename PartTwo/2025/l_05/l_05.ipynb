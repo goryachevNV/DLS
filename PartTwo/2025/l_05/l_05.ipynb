{
 "cells": [
  {
   "cell_type": "markdown",
   "id": "6ce7b307",
   "metadata": {},
   "source": [
    "# Домашнее задание. Классификация текста с помощью RNN"
   ]
  },
  {
   "cell_type": "markdown",
   "id": "cfc9af6c",
   "metadata": {},
   "source": [
    "В этом домашнем задании вам предстоит решить задачу классификации текстов новостей по темам. \n",
    "\n",
    "Для этого вам необходимо решить ноутбук по [ссылке](https://drive.google.com/file/d/1pUGuWLLkmKsWd0893xkUQScKKKy_pt6g/view?usp=share_link). \n",
    "\n",
    "Подробные инструкции для выполнения есть в ноутбуке. "
   ]
  }
 ],
 "metadata": {
  "language_info": {
   "name": "python"
  }
 },
 "nbformat": 4,
 "nbformat_minor": 5
}
