{
 "cells": [
  {
   "cell_type": "markdown",
   "metadata": {},
   "source": [
    "Создайте программу, которая три раза выводит фразу “какой чудесный день” c новой строки.\n",
    "\n",
    " \n",
    "\n",
    "Ожидаемый результат работы программы:\n",
    "\n",
    "какой чудесный день\n",
    "\n",
    "какой чудесный день\n",
    "\n",
    "какой чудесный день\n",
    "\n",
    "Sample Input:\n",
    "\n",
    "Sample Output:\n",
    "\n",
    "какой чудесный день\n",
    "какой чудесный день\n",
    "какой чудесный день"
   ]
  },
  {
   "cell_type": "code",
   "execution_count": 1,
   "metadata": {},
   "outputs": [
    {
     "name": "stdout",
     "output_type": "stream",
     "text": [
      "какой чудесный день\n",
      "какой чудесный день\n",
      "какой чудесный день\n"
     ]
    }
   ],
   "source": [
    "for i in range(3):\n",
    "    print(\"какой чудесный день\")"
   ]
  },
  {
   "cell_type": "markdown",
   "metadata": {},
   "source": [
    "Считайте имя пользователя и выведите на экран фразу “Как дела, <username>?”, где вместо <username> должно стоять считанное значение.\n",
    "\n",
    "Sample Input:\n",
    "\n",
    "1234\n",
    "\n",
    "Sample Output:\n",
    "\n",
    "Как дела, 1234?"
   ]
  },
  {
   "cell_type": "code",
   "execution_count": 4,
   "metadata": {},
   "outputs": [
    {
     "name": "stdout",
     "output_type": "stream",
     "text": [
      "Как дела, lol?\n"
     ]
    }
   ],
   "source": [
    "name = str(input())\n",
    "print(\"Как дела, \" + name + \"?\")"
   ]
  },
  {
   "cell_type": "markdown",
   "metadata": {},
   "source": [
    "Считайте год рождения пользователя и выведите, сколько лет ему было 31 декабря 2021 года.\n",
    "\n",
    "Sample Input:\n",
    "\n",
    "2000\n",
    "\n",
    "Sample Output:\n",
    "\n",
    "21\n"
   ]
  },
  {
   "cell_type": "code",
   "execution_count": 5,
   "metadata": {},
   "outputs": [
    {
     "name": "stdout",
     "output_type": "stream",
     "text": [
      "34\n"
     ]
    }
   ],
   "source": [
    "year = int(input())\n",
    "print(2021 - year)"
   ]
  },
  {
   "cell_type": "markdown",
   "metadata": {},
   "source": [
    "Напишите программу \"калькулятор\", которая считает два натуральных числа  1 ⩽ a, b ⩽ 10\n",
    "\n",
    "и вывести 5 строк, в которых будут напечатаны следующие числа:\n",
    "* a + b,\n",
    "\n",
    "* a − b,\n",
    "\n",
    "* a ⋅ b,\n",
    "\n",
    "* [a / b] (целочисленное деление),\n",
    "\n",
    "* a^b .\n",
    "\n",
    "Sample Input:\n",
    "\n",
    "1 2\n",
    "\n",
    "Sample Output:\n",
    "\n",
    "3\n",
    "\n",
    "-1\n",
    "\n",
    "2\n",
    "\n",
    "0\n",
    "\n",
    "1"
   ]
  },
  {
   "cell_type": "code",
   "execution_count": 12,
   "metadata": {},
   "outputs": [
    {
     "name": "stdout",
     "output_type": "stream",
     "text": [
      "5\n",
      "-1\n",
      "6\n",
      "0\n",
      "8\n"
     ]
    }
   ],
   "source": [
    "# https://stackoverflow.com/questions/23253863/how-to-input-2-integers-in-one-line-in-python\n",
    "a, b = map(int, input().split())\n",
    "print(a + b)\n",
    "print(a - b)\n",
    "print(a * b)\n",
    "print(a // b)\n",
    "print(a ** b)"
   ]
  },
  {
   "cell_type": "markdown",
   "metadata": {},
   "source": [
    "Напишите программу, которая принимает на вход два целых числа  1⩽a,b⩽100 и выводит на экран сумму двух чисел:\n",
    "\n",
    "* остатка от деления первого числа на второе;\n",
    "\n",
    "* результата целочисленного деления второго числа на первое.\n",
    "\n",
    "Sample Input:\n",
    "\n",
    "12\n",
    "\n",
    "7\n",
    " \n",
    "Sample Output:\n",
    "\n",
    "5\n"
   ]
  },
  {
   "cell_type": "code",
   "execution_count": 22,
   "metadata": {},
   "outputs": [
    {
     "name": "stdout",
     "output_type": "stream",
     "text": [
      "5\n"
     ]
    }
   ],
   "source": [
    "a = int(input())\n",
    "b = int(input())\n",
    "print(a - b*(a//b) + b//a)"
   ]
  },
  {
   "cell_type": "markdown",
   "metadata": {},
   "source": [
    "Разработайте программу, которая считывает 3 натуральных числа a, b, с и выводит `True`, если \n",
    "\n",
    "a + b = c \n",
    "\n",
    "и `False`, иначе.\n",
    "\n",
    "Sample Input:\n",
    "\n",
    "1 2 3\n",
    "\n",
    "Sample Output:\n",
    "\n",
    "True"
   ]
  },
  {
   "cell_type": "code",
   "execution_count": 23,
   "metadata": {},
   "outputs": [
    {
     "name": "stdout",
     "output_type": "stream",
     "text": [
      "True\n"
     ]
    }
   ],
   "source": [
    "# https://stackoverflow.com/questions/23253863/how-to-input-2-integers-in-one-line-in-python\n",
    "a, b, c = map(int, input().split())\n",
    "print((a+b)==c)"
   ]
  }
 ],
 "metadata": {
  "kernelspec": {
   "display_name": "Python 3",
   "language": "python",
   "name": "python3"
  },
  "language_info": {
   "codemirror_mode": {
    "name": "ipython",
    "version": 3
   },
   "file_extension": ".py",
   "mimetype": "text/x-python",
   "name": "python",
   "nbconvert_exporter": "python",
   "pygments_lexer": "ipython3",
   "version": "3.11.4"
  }
 },
 "nbformat": 4,
 "nbformat_minor": 2
}
