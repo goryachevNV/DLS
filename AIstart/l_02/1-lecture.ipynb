{
 "cells": [
  {
   "cell_type": "markdown",
   "metadata": {},
   "source": [
    "# Введение в язык программирования Python\n",
    "В этом видео вы узнаете, какую роль программирование играет в машинном обучении, а также узнаете, почему мы используем на курсе именно язык Python.\n",
    "\n",
    "Занятие ведет Даниил Царьков.\n",
    "\n",
    "https://www.youtube.com/watch?v=GT3hiL8TjcY"
   ]
  },
  {
   "cell_type": "markdown",
   "metadata": {},
   "source": [
    "# Знакомство с функциями\n",
    "В этом видео мы познакомимся с главной рабочей силой языка Python -- функциями. Вы также узнаете о функции print.\n",
    "\n",
    "Занятие ведет Даниил Царьков.\n",
    "\n",
    "https://www.youtube.com/watch?v=ZRKXgj9S3Ys\n",
    "\n",
    "Ссылка на ноутбук (https://drive.google.com/file/d/1Y0KTNtK6yg2Y7UPhszhHSwlSasEK5js0, скаченный файл: **2-Знакомство_с_функциями.ipynb**)"
   ]
  },
  {
   "cell_type": "markdown",
   "metadata": {},
   "source": [
    "# Аргументы функций\n",
    "Мы продолжаем разговор о функциях и в этом видео поговорим подробнее об аргументах функций. Также мы познакомимся с понятием переменной.\n",
    "\n",
    "Занятие ведет Даниил Царьков.\n",
    "\n",
    "https://www.youtube.com/watch?v=z2UA9DvTJ3o\n",
    "\n",
    "Ссылка на ноутбук (https://drive.google.com/file/d/19lDaxiCZmuX9CPlOOSSxmH0WzpGehsmI/view, скаченный файл: **3-Аргументы_функций.ipynb**)"
   ]
  },
  {
   "cell_type": "markdown",
   "metadata": {},
   "source": [
    "# Типы данных\n",
    "\n",
    "В этом видео мы познакомимся с тремя базовыми типами данных в языке: int, float, string.\n",
    "\n",
    "Занятие ведет Даниил Царьков.\n",
    "\n",
    "https://www.youtube.com/watch?v=80l2ID8RwNU\n",
    "\n",
    "Ссылка на ноутбук (https://drive.google.com/file/d/1tjRoS8CWtXdbhuGs4bxX4fTkGEfPGigb/view, скаченный файл: **4-Типы_данных.ipynb**)"
   ]
  },
  {
   "cell_type": "markdown",
   "metadata": {},
   "source": [
    "# Математические операторы\n",
    "\n",
    "В этом видео мы поговорим об основных математических операциях в Python.\n",
    "\n",
    "Занятие ведет Даниил Царьков.\n",
    "\n",
    "https://www.youtube.com/watch?v=cQ33MImsnlo\n",
    "\n",
    "Ссылка на ноутбук (https://drive.google.com/file/d/1HlDmuez05U66TsscUW2xCLtVWPKBUW7j, скаченный файл: **5-Математические_операторы.ipynb**)"
   ]
  },
  {
   "cell_type": "markdown",
   "metadata": {},
   "source": [
    "# Логические выражения\n",
    "В этом видео мы поговорим о логических выражениях в Python.\n",
    "\n",
    "Занятие ведет Даниил Царьков.\n",
    "\n",
    "https://www.youtube.com/watch?v=RqHrtSvE65U\n",
    "\n",
    "Ссылка на ноутбук (https://drive.google.com/file/d/15GqnnnureKrOtYxEDfuyJjQ0lxXrgy3j, скаченный файл: **6-Логические_выражения.ipynb**)"
   ]
  },
  {
   "cell_type": "markdown",
   "metadata": {},
   "source": [
    "# Условный оператор\n",
    "В этом видео мы обсудим условный оператор в Python.\n",
    "\n",
    "Занятие ведет Даниил Царьков.\n",
    "\n",
    "https://www.youtube.com/watch?v=XhwdXjBApZk\n",
    "\n",
    "Ссылка на ноутбук (https://drive.google.com/file/d/1dPD_Ie_3FEVhCsGW3lJ22SPNcHRIuEpf, скаченный файл: **7-Условный_оператор.ipynb**)"
   ]
  },
  {
   "cell_type": "markdown",
   "metadata": {},
   "source": [
    "# Логические операции\n",
    "Вы узнаете о том, как в Python производить логические операции.\n",
    "\n",
    "Занятие ведет Даниил Царьков.\n",
    "\n",
    "https://www.youtube.com/watch?v=tLsahk3riew\n",
    "\n",
    "Ссылка на ноутбук (https://drive.google.com/file/d/1Dn2OhdqevubynqgreGQq-DSUDnXhrLxr, скаченный файл: **8-Логические_операции.ipynb**)"
   ]
  },
  {
   "cell_type": "markdown",
   "metadata": {},
   "source": [
    "# Каскадный условный оператор\n",
    "В этом видео мы познакомимся с каскадным условным оператором --- способом записывать сложные логические структуры в Python.\n",
    "\n",
    "Занятие ведет Даниил Царьков.\n",
    "\n",
    "https://www.youtube.com/watch?v=GhOhQAd8Dyg\n",
    "\n",
    "Ссылка на ноутбук (https://drive.google.com/file/d/1woWcvaXnSu_U2ZTxoiBgwLWrftYGJc_C, скаченный файл: **9-Каскадный_условный_оператор.ipynb**)"
   ]
  }
 ],
 "metadata": {
  "language_info": {
   "name": "python"
  }
 },
 "nbformat": 4,
 "nbformat_minor": 2
}
